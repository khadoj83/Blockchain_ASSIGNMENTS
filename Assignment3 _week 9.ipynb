{
  "nbformat": 4,
  "nbformat_minor": 0,
  "metadata": {
    "colab": {
      "name": "Untitled7.ipynb",
      "provenance": []
    },
    "kernelspec": {
      "name": "python3",
      "display_name": "Python 3"
    },
    "language_info": {
      "name": "python"
    }
  },
  "cells": [
    {
      "cell_type": "code",
      "execution_count": null,
      "metadata": {
        "id": "Mkoy1aAF-5mS"
      },
      "outputs": [],
      "source": [
        ""
      ]
    },
    {
      "cell_type": "code",
      "source": [
        "\n",
        "import hashlib\n",
        "import time\n",
        "import json"
      ],
      "metadata": {
        "id": "YxDTZ8veKsvv"
      },
      "execution_count": 1,
      "outputs": []
    },
    {
      "cell_type": "code",
      "source": [
        "\n",
        "class Block():\n",
        "    def __init__(self,        # Call the construcor\n",
        "                 index:int = 0, \n",
        "                 transactions:list = [],\n",
        "                 timestamp:int = 0,\n",
        "                 cur_hash = \" \", \n",
        "                 previous_hash = \" \",\n",
        "                 nonce:int =0):\n",
        "        \n",
        "        self.index:int = index  \n",
        "        self.transactions:list = transactions \n",
        "        self.timestamp:int = timestamp\n",
        "        self.hash = cur_hash\n",
        "        self.previous_hash = previous_hash, # treated as the backwards linking hash to the previous block\n",
        "        self.nonce:int = nonce # A number-used-once or nonce\n",
        "            \n",
        "    def compute_hash(self) -> str:\n",
        "        \n",
        "        block_string = json.dumps(self.__dict__, sort_keys=True)  \n",
        "        return hashlib.sha256(block_string.encode()).hexdigest()  # Return our computed hash based on a JSON encoding of our block "
      ],
      "metadata": {
        "id": "N30c3JCpLBtA"
      },
      "execution_count": 7,
      "outputs": []
    },
    {
      "cell_type": "code",
      "source": [
        "b = Block()"
      ],
      "metadata": {
        "id": "Hv0-yOrbLcsx"
      },
      "execution_count": 8,
      "outputs": []
    },
    {
      "cell_type": "code",
      "source": [
        "b.compute_hash()"
      ],
      "metadata": {
        "colab": {
          "base_uri": "https://localhost:8080/",
          "height": 35
        },
        "id": "04XB5DlRLeq1",
        "outputId": "222bec0c-b424-4d43-f113-037f557ee77c"
      },
      "execution_count": 9,
      "outputs": [
        {
          "output_type": "execute_result",
          "data": {
            "application/vnd.google.colaboratory.intrinsic+json": {
              "type": "string"
            },
            "text/plain": [
              "'1c2702ccc15a5313ec5665eb9259199af303602d4e6c6745b981c900e6a7be8d'"
            ]
          },
          "metadata": {},
          "execution_count": 9
        }
      ]
    },
    {
      "cell_type": "code",
      "source": [
        "class Blockchain():\n",
        "  def __init__(self):\n",
        "    self.unconfirmed_transactions:List[dict] = []\n",
        "    self.chain:List[Block] = []\n",
        "    self.difficulty:int = 2\n",
        "    self.create_genesis_block() \n",
        "\n",
        "  def get_last_block(self)-> Block: ######\n",
        "      return self.chin[-1]\n",
        "\n",
        "  def create_genesis_block(self):\n",
        "    genesis_block = Block(index=0, transactions=[], timestamp=time.time(), previous_hash=\"0\") \n",
        "    genesis_block.hash = genesis_block.compute_hash()\n",
        "    self.chain.append(genesis_block)\n",
        "\n",
        "  def proof_of_work(self, block:Block) -> str:\n",
        "      computed_hash = block.compute_hash()\n",
        "      while not computed_hash.startswith('0' * self.difficulty):\n",
        "        block.nonce += 1\n",
        "        computed_hash = block.compute_hash()\n",
        "      return  computed_hash\n",
        "\n",
        "  def is_valid_proof(self, block:Block, proof:str) -> bool:\n",
        "        return  block_hash.startswith('0' * self.difficulty) and block_hash == block.compute_hash()\n",
        "\n",
        "  def add_block(self, block:Block, proof:str) -> bool:\n",
        "      last_block =self.last_block()\n",
        "      last_block.hash\n",
        "      if last_block.current_hash != block.previous_hash:\n",
        "          return False  \n",
        "\n",
        "  def add_new_transaction(self, transaction:dict) -> None:\n",
        "          self.unconfirmed_transactions.append(transaction)\n",
        "\n",
        "  def mine(self) -> int:\n",
        "    if len(self.unconfirmed_transactions)  < 1: \n",
        "      return -1\n",
        "    last_block = self.get_last_block() \n",
        "    self.unconfirmed_transactions.append(t_1)\n",
        "    new_block = block(index=last_block.index + 1,\n",
        "                            transactions=self.unconfirmed_transactions,\n",
        "                            timestamp=time.time(),\n",
        "                            previous_hash=last_block.hash)\n",
        "      \n",
        "    proof =  self.proof_of_work (new_block)\n",
        "    if not is_valid_proof(new_block,proof):\n",
        "        return -1\n"
      ],
      "metadata": {
        "id": "IuVaAhJu8xq2"
      },
      "execution_count": 10,
      "outputs": []
    },
    {
      "cell_type": "code",
      "source": [
        "print(Block.__dict__)"
      ],
      "metadata": {
        "colab": {
          "base_uri": "https://localhost:8080/"
        },
        "id": "JN3L2wI2LmAG",
        "outputId": "882a4c7e-b7aa-42dc-ce2f-fecb661c143b"
      },
      "execution_count": 11,
      "outputs": [
        {
          "output_type": "stream",
          "name": "stdout",
          "text": [
            "{'__module__': '__main__', '__init__': <function Block.__init__ at 0x7fb351d937a0>, 'compute_hash': <function Block.compute_hash at 0x7fb351d93a70>, '__dict__': <attribute '__dict__' of 'Block' objects>, '__weakref__': <attribute '__weakref__' of 'Block' objects>, '__doc__': None}\n"
          ]
        }
      ]
    },
    {
      "cell_type": "code",
      "source": [
        "tx_1 = {\n",
        "   \"addr_from\": \"3J98t1WpEZ73CNmQviecrnyiWrnqRhWNLy\",\n",
        "   \"addr_to\": \"1BvBMSEYstWetqTFn5Au4m4GFg9xJaNVN2\",   \n",
        "   \"amount\": 95.00\n",
        "}\n",
        "\n",
        "tx_2 = {\n",
        "   \"addr_from\": \"1Bhghiojjjo7564hknkfvenyilkkhuafd\",\n",
        "   \"addr_to\": \"1BvBMSEYstWetqTFn5Au4m4GFg9xJaNVN2\",   \n",
        "   \"amount\": 99.00\n",
        "}"
      ],
      "metadata": {
        "id": "lIp0hlFxLnCD"
      },
      "execution_count": 13,
      "outputs": []
    },
    {
      "cell_type": "code",
      "source": [
        "b_c = Blockchain()\n",
        "[b_c.add_new_transaction(tx) for tx in [tx_1,tx_2]]"
      ],
      "metadata": {
        "colab": {
          "base_uri": "https://localhost:8080/"
        },
        "id": "Aik8YaEdLrB4",
        "outputId": "d96537b1-504f-4df9-aef8-92d102bb7d7d"
      },
      "execution_count": 14,
      "outputs": [
        {
          "output_type": "execute_result",
          "data": {
            "text/plain": [
              "[None, None]"
            ]
          },
          "metadata": {},
          "execution_count": 14
        }
      ]
    },
    {
      "cell_type": "code",
      "source": [
        "b_c.unconfirmed_transactions"
      ],
      "metadata": {
        "colab": {
          "base_uri": "https://localhost:8080/"
        },
        "id": "Z-wDFSScLuGx",
        "outputId": "1adfcfb0-2a19-4840-eb50-d27447227594"
      },
      "execution_count": 15,
      "outputs": [
        {
          "output_type": "execute_result",
          "data": {
            "text/plain": [
              "[{'addr_from': '3J98t1WpEZ73CNmQviecrnyiWrnqRhWNLy',\n",
              "  'addr_to': '1BvBMSEYstWetqTFn5Au4m4GFg9xJaNVN2',\n",
              "  'amount': 95.0},\n",
              " {'addr_from': '1Bhghiojjjo7564hknkfvenyilkkhuafd',\n",
              "  'addr_to': '1BvBMSEYstWetqTFn5Au4m4GFg9xJaNVN2',\n",
              "  'amount': 99.0}]"
            ]
          },
          "metadata": {},
          "execution_count": 15
        }
      ]
    },
    {
      "cell_type": "code",
      "source": [
        ""
      ],
      "metadata": {
        "id": "QWS0pBuhLxJ_"
      },
      "execution_count": null,
      "outputs": []
    }
  ]
}